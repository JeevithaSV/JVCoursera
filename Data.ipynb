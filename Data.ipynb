{
 "cells": [
  {
   "cell_type": "markdown",
   "id": "74a4dee0-9dae-48be-8615-ed9ac7a1aa6a",
   "metadata": {},
   "source": [
    "# Data Science Tools and Ecosystem"
   ]
  },
  {
   "cell_type": "markdown",
   "id": "74beaeef-2dad-4ac7-a557-22dee6339d8b",
   "metadata": {},
   "source": [
    "## In this notebook, Data Science Tools and Ecosystem are summarized."
   ]
  },
  {
   "cell_type": "markdown",
   "id": "be33e014-0b8d-49bc-bd87-e5571d8726bb",
   "metadata": {},
   "source": [
    "### In this notebook, Data Science Tools and Ecosystem are summarized.\n",
    "1. Python\n",
    "2. R\n",
    "3. C++"
   ]
  },
  {
   "cell_type": "markdown",
   "id": "c4eb8d29-bc51-43f3-ab37-43b4f7c0aa55",
   "metadata": {},
   "source": [
    "### Some of the commonly used libraries used by Data Scientists include:\n",
    "1. NumPy\n",
    "2. SciPy\n",
    "3. Pandas\n",
    "4. Matplotlab\n"
   ]
  },
  {
   "cell_type": "markdown",
   "id": "0ca377d0-6a30-48af-8b0b-bc0c11da7649",
   "metadata": {},
   "source": [
    "|Data Science Tools|\n",
    "|------------------|\n",
    "|RStudio|\n",
    "|Apache Spark|\n",
    "|Tensor Flow|"
   ]
  },
  {
   "cell_type": "markdown",
   "id": "1fa2b158-b5ac-4755-b804-ddca2801d3bb",
   "metadata": {},
   "source": [
    "### Below are a few examples of evaluating arithmetic expressions in Python\n",
    "x=y+z"
   ]
  },
  {
   "cell_type": "code",
   "execution_count": null,
   "id": "556b512c-6061-4316-affe-3bb7a97a1ca0",
   "metadata": {},
   "outputs": [],
   "source": []
  }
 ],
 "metadata": {
  "kernelspec": {
   "display_name": "",
   "name": ""
  },
  "language_info": {
   "name": ""
  }
 },
 "nbformat": 4,
 "nbformat_minor": 5
}
